{
  "nbformat": 4,
  "nbformat_minor": 0,
  "metadata": {
    "colab": {
      "provenance": [],
      "name": "pytorch-linearRegression.ipynb",
      "authorship_tag": "ABX9TyPy6Bp8PXTuDqFAd3LJu+eo",
      "include_colab_link": true
    },
    "kernelspec": {
      "name": "python3",
      "display_name": "Python 3"
    },
    "language_info": {
      "name": "python"
    }
  },
  "cells": [
    {
      "cell_type": "markdown",
      "metadata": {
        "id": "view-in-github",
        "colab_type": "text"
      },
      "source": [
        "<a href=\"https://colab.research.google.com/github/Madushani-Weerasekara/PyTorch-Linear-Regression/blob/main/pytorch_linearRegression.ipynb\" target=\"_parent\"><img src=\"https://colab.research.google.com/assets/colab-badge.svg\" alt=\"Open In Colab\"/></a>"
      ]
    },
    {
      "cell_type": "code",
      "execution_count": null,
      "metadata": {
        "id": "VPGw3O04_V9Q"
      },
      "outputs": [],
      "source": [
        "import torch\n",
        "import torch.nn as nn\n",
        "import numpy as np\n",
        "import matplotlib.pyplot as plt"
      ]
    },
    {
      "cell_type": "code",
      "source": [
        "# We would like to generate 20 data points\n",
        "N = 20\n",
        "\n",
        "# Random data on th X-axes in(-5,5)\n",
        "x = np.random.random(N)*10-5\n",
        "\n",
        "# A line plus some noise\n",
        "y = 0.5*x-1+ np.random.random(N)\n"
      ],
      "metadata": {
        "id": "6NupKGhYFTAm"
      },
      "execution_count": null,
      "outputs": []
    },
    {
      "cell_type": "code",
      "source": [
        "# Plot the data\n",
        "plt.scatter(x,y);"
      ],
      "metadata": {
        "colab": {
          "base_uri": "https://localhost:8080/",
          "height": 430
        },
        "id": "tAPRDbbUHNZx",
        "outputId": "74de6d2e-6f38-4a01-bbf6-3ab760b725a2"
      },
      "execution_count": null,
      "outputs": [
        {
          "output_type": "display_data",
          "data": {
            "text/plain": [
              "<Figure size 640x480 with 1 Axes>"
            ],
            "image/png": "[encoded data removed]"
          },
          "metadata": {}
        }
      ]
    },
    {
      "cell_type": "code",
      "source": [
        "# Create the linear regression model\n",
        "model = nn.Linear(1,1)"
      ],
      "metadata": {
        "id": "09Y7oY0cPIaU"
      },
      "execution_count": null,
      "outputs": []
    },
    {
      "cell_type": "code",
      "source": [
        "#Cost/Loss and Optimizer\n",
        "criterion = nn.MSELoss()\n",
        "Optimizer = torch.optim.SGD(model.parameters(),lr=0.1)"
      ],
      "metadata": {
        "id": "N9Kp22W8PXai"
      },
      "execution_count": null,
      "outputs": []
    },
    {
      "cell_type": "code",
      "source": [
        "# In ML we want our data to be shape:\n",
        "# (num_samples x num_dimensions)\n",
        "x = x.reshape(N,1)\n",
        "y = y.reshape(N,1)\n"
      ],
      "metadata": {
        "id": "plvbNiWWUAI3"
      },
      "execution_count": null,
      "outputs": []
    },
    {
      "cell_type": "code",
      "source": [
        "# PyTorch uses float32 by default\n",
        "# Numpy creates float64 by default\n",
        "inputs = torch.from_numpy(x.astype(np.float32))\n",
        "target = torch.from_numpy(y.astype(np.float32))"
      ],
      "metadata": {
        "id": "35wr-xIYUr41"
      },
      "execution_count": null,
      "outputs": []
    },
    {
      "cell_type": "code",
      "source": [
        "type(inputs)"
      ],
      "metadata": {
        "colab": {
          "base_uri": "https://localhost:8080/"
        },
        "id": "_hTP1iJVVzSj",
        "outputId": "8b90280d-babc-4e95-ae9d-33eb7c5a5787"
      },
      "execution_count": null,
      "outputs": [
        {
          "output_type": "execute_result",
          "data": {
            "text/plain": [
              "torch.Tensor"
            ]
          },
          "metadata": {},
          "execution_count": 28
        }
      ]
    },
    {
      "cell_type": "code",
      "source": [
        "type(target)"
      ],
      "metadata": {
        "colab": {
          "base_uri": "https://localhost:8080/"
        },
        "id": "0y5i93VZV6On",
        "outputId": "98c19c4f-a74e-425c-81b3-eaac6af67b23"
      },
      "execution_count": null,
      "outputs": [
        {
          "output_type": "execute_result",
          "data": {
            "text/plain": [
              "torch.Tensor"
            ]
          },
          "metadata": {},
          "execution_count": 29
        }
      ]
    },
    {
      "cell_type": "code",
      "source": [
        "# Train the model\n",
        "n_epochs = 30\n",
        "losess = []\n",
        "for it in range(n_epochs):\n",
        "  # Zero the parameter gradient\n",
        "  Optimizer.zero_grad()\n",
        "\n",
        "  # Forwad pass\n",
        "  outputs = model(inputs)\n",
        "  loss = criterion(outputs, target)\n",
        "\n",
        "  # Keep the loss so we can plot it later\n",
        "  losess.append(loss.item())\n",
        "\n",
        "  # Backward and optimize\n",
        "  loss.backward()\n",
        "  Optimizer.step()\n",
        "\n",
        "  print(f'Epoch {it+1}/{n_epochs}, Loss : {loss.item() : .4f}')\n",
        "\n"
      ],
      "metadata": {
        "id": "yGBcUr5qL_KS",
        "outputId": "b2c2718f-8f1a-4ec2-9a0e-4dda5ece5aab",
        "colab": {
          "base_uri": "https://localhost:8080/"
        }
      },
      "execution_count": 12,
      "outputs": [
        {
          "output_type": "stream",
          "name": "stdout",
          "text": [
            "Epoch 1/30, Loss :  1.6515\n",
            "Epoch 2/30, Loss :  1.3711\n",
            "Epoch 3/30, Loss :  1.1401\n",
            "Epoch 4/30, Loss :  0.9498\n",
            "Epoch 5/30, Loss :  0.7930\n",
            "Epoch 6/30, Loss :  0.6637\n",
            "Epoch 7/30, Loss :  0.5572\n",
            "Epoch 8/30, Loss :  0.4693\n",
            "Epoch 9/30, Loss :  0.3969\n",
            "Epoch 10/30, Loss :  0.3372\n",
            "Epoch 11/30, Loss :  0.2879\n",
            "Epoch 12/30, Loss :  0.2473\n",
            "Epoch 13/30, Loss :  0.2138\n",
            "Epoch 14/30, Loss :  0.1862\n",
            "Epoch 15/30, Loss :  0.1634\n",
            "Epoch 16/30, Loss :  0.1447\n",
            "Epoch 17/30, Loss :  0.1292\n",
            "Epoch 18/30, Loss :  0.1164\n",
            "Epoch 19/30, Loss :  0.1058\n",
            "Epoch 20/30, Loss :  0.0972\n",
            "Epoch 21/30, Loss :  0.0900\n",
            "Epoch 22/30, Loss :  0.0841\n",
            "Epoch 23/30, Loss :  0.0792\n",
            "Epoch 24/30, Loss :  0.0752\n",
            "Epoch 25/30, Loss :  0.0719\n",
            "Epoch 26/30, Loss :  0.0691\n",
            "Epoch 27/30, Loss :  0.0669\n",
            "Epoch 28/30, Loss :  0.0650\n",
            "Epoch 29/30, Loss :  0.0635\n",
            "Epoch 30/30, Loss :  0.0622\n"
          ]
        }
      ]
    }
  ]
}