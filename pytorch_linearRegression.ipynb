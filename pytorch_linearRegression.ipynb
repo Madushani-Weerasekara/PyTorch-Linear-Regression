{
  "nbformat": 4,
  "nbformat_minor": 0,
  "metadata": {
    "colab": {
      "provenance": [],
      "name": "pytorch-linearRegression.ipynb",
      "authorship_tag": "ABX9TyP53lbknFlDtTXZlFZTYWVi",
      "include_colab_link": true
    },
    "kernelspec": {
      "name": "python3",
      "display_name": "Python 3"
    },
    "language_info": {
      "name": "python"
    }
  },
  "cells": [
    {
      "cell_type": "markdown",
      "metadata": {
        "id": "view-in-github",
        "colab_type": "text"
      },
      "source": [
        "<a href=\"https://colab.research.google.com/github/Madushani-Weerasekara/PyTorch-Linear-Regression/blob/main/pytorch_linearRegression.ipynb\" target=\"_parent\"><img src=\"https://colab.research.google.com/assets/colab-badge.svg\" alt=\"Open In Colab\"/></a>"
      ]
    },
    {
      "cell_type": "code",
      "execution_count": 13,
      "metadata": {
        "id": "VPGw3O04_V9Q"
      },
      "outputs": [],
      "source": [
        "import torch\n",
        "import torch.nn as nn\n",
        "import numpy as np\n",
        "import matplotlib.pyplot as plt"
      ]
    },
    {
      "cell_type": "code",
      "source": [
        "# We would like to generate 20 data points\n",
        "N = 20\n",
        "\n",
        "# Random data on th X-axes in(-5,5)\n",
        "x = np.random.random(N)*10-5\n",
        "\n",
        "# A line plus some noise\n",
        "y = 0.5*x-1+ np.random.random(N)\n"
      ],
      "metadata": {
        "id": "6NupKGhYFTAm"
      },
      "execution_count": 14,
      "outputs": []
    },
    {
      "cell_type": "code",
      "source": [
        "# Plot the data\n",
        "plt.scatter(x,y);"
      ],
      "metadata": {
        "colab": {
          "base_uri": "https://localhost:8080/",
          "height": 433
        },
        "id": "tAPRDbbUHNZx",
        "outputId": "8cf6e1fa-b51e-42ff-b2a6-5b636aca5789"
      },
      "execution_count": 15,
      "outputs": [
        {
          "output_type": "display_data",
          "data": {
            "text/plain": [
              "<Figure size 640x480 with 1 Axes>"
            ],
            "image/png": "[encoded data removed]"
          },
          "metadata": {}
        }
      ]
    },
    {
      "cell_type": "code",
      "source": [
        "# Create the linear regression model\n",
        "model = nn.Linear(1,1)"
      ],
      "metadata": {
        "id": "09Y7oY0cPIaU"
      },
      "execution_count": 16,
      "outputs": []
    },
    {
      "cell_type": "code",
      "source": [
        "#Cost/Loss and Optimizer\n",
        "criterion = nn.MSELoss()\n",
        "Optimizer = torch.optim.SGD(model.parameters(),lr=0.1)"
      ],
      "metadata": {
        "id": "N9Kp22W8PXai"
      },
      "execution_count": 17,
      "outputs": []
    },
    {
      "cell_type": "code",
      "source": [
        "# In ML we want our data to be shape:\n",
        "# (num_samples x num_dimensions)\n",
        "x = x.reshape(N,1)\n",
        "y = y.reshape(N,1)\n"
      ],
      "metadata": {
        "id": "plvbNiWWUAI3"
      },
      "execution_count": 18,
      "outputs": []
    },
    {
      "cell_type": "code",
      "source": [
        "# PyTorch uses float32 by default\n",
        "# Numpy creates float64 by default\n",
        "inputs = torch.from_numpy(x.astype(np.float32))\n",
        "target = torch.from_numpy(y.astype(np.float32))"
      ],
      "metadata": {
        "id": "35wr-xIYUr41"
      },
      "execution_count": 19,
      "outputs": []
    },
    {
      "cell_type": "code",
      "source": [
        "type(inputs)"
      ],
      "metadata": {
        "colab": {
          "base_uri": "https://localhost:8080/"
        },
        "id": "_hTP1iJVVzSj",
        "outputId": "bb782b40-1190-45d1-8daf-1cbfe2a61c55"
      },
      "execution_count": 20,
      "outputs": [
        {
          "output_type": "execute_result",
          "data": {
            "text/plain": [
              "torch.Tensor"
            ]
          },
          "metadata": {},
          "execution_count": 20
        }
      ]
    },
    {
      "cell_type": "code",
      "source": [
        "type(target)"
      ],
      "metadata": {
        "colab": {
          "base_uri": "https://localhost:8080/"
        },
        "id": "0y5i93VZV6On",
        "outputId": "2087ce3c-9a99-41d4-816a-02b2a3024cb3"
      },
      "execution_count": 21,
      "outputs": [
        {
          "output_type": "execute_result",
          "data": {
            "text/plain": [
              "torch.Tensor"
            ]
          },
          "metadata": {},
          "execution_count": 21
        }
      ]
    },
    {
      "cell_type": "code",
      "source": [
        "# Train the model\n",
        "n_epochs = 30\n",
        "losses = []\n",
        "for it in range(n_epochs):\n",
        "  # Zero the parameter gradient\n",
        "  Optimizer.zero_grad()\n",
        "\n",
        "  # Forwad pass\n",
        "  outputs = model(inputs)\n",
        "  loss = criterion(outputs, target)\n",
        "\n",
        "  # Keep the loss so we can plot it later\n",
        "  losses.append(loss.item())\n",
        "\n",
        "  # Backward and optimize\n",
        "  loss.backward()\n",
        "  Optimizer.step()\n",
        "\n",
        "  print(f'Epoch {it+1}/{n_epochs}, Loss : {loss.item() : .4f}')\n",
        "\n"
      ],
      "metadata": {
        "colab": {
          "base_uri": "https://localhost:8080/"
        },
        "id": "yGBcUr5qL_KS",
        "outputId": "bcce27f0-958c-478e-b08c-77fe10705fac"
      },
      "execution_count": 22,
      "outputs": [
        {
          "output_type": "stream",
          "name": "stdout",
          "text": [
            "Epoch 1/30, Loss :  6.6406\n",
            "Epoch 2/30, Loss :  1.1636\n",
            "Epoch 3/30, Loss :  0.7613\n",
            "Epoch 4/30, Loss :  0.5179\n",
            "Epoch 5/30, Loss :  0.3608\n",
            "Epoch 6/30, Loss :  0.2594\n",
            "Epoch 7/30, Loss :  0.1939\n",
            "Epoch 8/30, Loss :  0.1517\n",
            "Epoch 9/30, Loss :  0.1244\n",
            "Epoch 10/30, Loss :  0.1067\n",
            "Epoch 11/30, Loss :  0.0953\n",
            "Epoch 12/30, Loss :  0.0880\n",
            "Epoch 13/30, Loss :  0.0833\n",
            "Epoch 14/30, Loss :  0.0802\n",
            "Epoch 15/30, Loss :  0.0782\n",
            "Epoch 16/30, Loss :  0.0769\n",
            "Epoch 17/30, Loss :  0.0761\n",
            "Epoch 18/30, Loss :  0.0756\n",
            "Epoch 19/30, Loss :  0.0752\n",
            "Epoch 20/30, Loss :  0.0750\n",
            "Epoch 21/30, Loss :  0.0749\n",
            "Epoch 22/30, Loss :  0.0748\n",
            "Epoch 23/30, Loss :  0.0747\n",
            "Epoch 24/30, Loss :  0.0747\n",
            "Epoch 25/30, Loss :  0.0747\n",
            "Epoch 26/30, Loss :  0.0746\n",
            "Epoch 27/30, Loss :  0.0746\n",
            "Epoch 28/30, Loss :  0.0746\n",
            "Epoch 29/30, Loss :  0.0746\n",
            "Epoch 30/30, Loss :  0.0746\n"
          ]
        }
      ]
    },
    {
      "cell_type": "code",
      "source": [
        "# Plot the loss per iteration\n",
        "plt.plot(losses);\n"
      ],
      "metadata": {
        "colab": {
          "base_uri": "https://localhost:8080/",
          "height": 430
        },
        "id": "76JMfrqhQX4S",
        "outputId": "d5f558fc-c3a1-4b69-bc7e-76465dbdd1b4"
      },
      "execution_count": 23,
      "outputs": [
        {
          "output_type": "display_data",
          "data": {
            "text/plain": [
              "<Figure size 640x480 with 1 Axes>"
            ],
            "image/png": "[encoded data removed]"
          },
          "metadata": {}
        }
      ]
    },
    {
      "cell_type": "code",
      "source": [
        "# Plot the graph\n",
        "predicted = model(inputs).detach().numpy()\n",
        "plt.scatter(x,y, label = 'Original data')\n",
        "plt.scatter(x, predicted , label = 'fitted line')\n",
        "plt.legend()\n",
        "plt.show()\n"
      ],
      "metadata": {
        "colab": {
          "base_uri": "https://localhost:8080/",
          "height": 430
        },
        "id": "UY2XbvX3RZGe",
        "outputId": "46d18f44-9f3f-406a-e3a4-91578fa50163"
      },
      "execution_count": 30,
      "outputs": [
        {
          "output_type": "display_data",
          "data": {
            "text/plain": [
              "<Figure size 640x480 with 1 Axes>"
            ],
            "image/png": "[encoded data removed]"
          },
          "metadata": {}
        }
      ]
    }
  ]
}